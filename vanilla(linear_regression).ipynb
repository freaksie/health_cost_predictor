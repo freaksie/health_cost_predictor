{
 "metadata": {
  "language_info": {
   "codemirror_mode": {
    "name": "ipython",
    "version": 3
   },
   "file_extension": ".py",
   "mimetype": "text/x-python",
   "name": "python",
   "nbconvert_exporter": "python",
   "pygments_lexer": "ipython3",
   "version": "3.6.5-final"
  },
  "orig_nbformat": 2,
  "kernelspec": {
   "name": "python_defaultSpec_1600692061194",
   "display_name": "Python 3.6.5 32-bit"
  }
 },
 "nbformat": 4,
 "nbformat_minor": 2,
 "cells": [
  {
   "cell_type": "code",
   "execution_count": 1,
   "metadata": {},
   "outputs": [],
   "source": [
    "import numpy as np\n",
    "import pandas as pd\n",
    "from sklearn.model_selection import train_test_split"
   ]
  },
  {
   "cell_type": "code",
   "execution_count": 2,
   "metadata": {},
   "outputs": [],
   "source": [
    "# Retrive dataset\n",
    "ds = pd.read_csv(\"insurance.csv\")"
   ]
  },
  {
   "cell_type": "code",
   "execution_count": 3,
   "metadata": {},
   "outputs": [
    {
     "output_type": "execute_result",
     "data": {
      "text/plain": "   age  sex     bmi  children  smoker  region\n0   19    0  27.900         0       1       0\n1   18    1  33.770         1       0       1\n2   28    1  33.000         3       0       1\n3   33    1  22.705         0       0       2\n4   32    1  28.880         0       0       2",
      "text/html": "<div>\n<style scoped>\n    .dataframe tbody tr th:only-of-type {\n        vertical-align: middle;\n    }\n\n    .dataframe tbody tr th {\n        vertical-align: top;\n    }\n\n    .dataframe thead th {\n        text-align: right;\n    }\n</style>\n<table border=\"1\" class=\"dataframe\">\n  <thead>\n    <tr style=\"text-align: right;\">\n      <th></th>\n      <th>age</th>\n      <th>sex</th>\n      <th>bmi</th>\n      <th>children</th>\n      <th>smoker</th>\n      <th>region</th>\n    </tr>\n  </thead>\n  <tbody>\n    <tr>\n      <th>0</th>\n      <td>19</td>\n      <td>0</td>\n      <td>27.900</td>\n      <td>0</td>\n      <td>1</td>\n      <td>0</td>\n    </tr>\n    <tr>\n      <th>1</th>\n      <td>18</td>\n      <td>1</td>\n      <td>33.770</td>\n      <td>1</td>\n      <td>0</td>\n      <td>1</td>\n    </tr>\n    <tr>\n      <th>2</th>\n      <td>28</td>\n      <td>1</td>\n      <td>33.000</td>\n      <td>3</td>\n      <td>0</td>\n      <td>1</td>\n    </tr>\n    <tr>\n      <th>3</th>\n      <td>33</td>\n      <td>1</td>\n      <td>22.705</td>\n      <td>0</td>\n      <td>0</td>\n      <td>2</td>\n    </tr>\n    <tr>\n      <th>4</th>\n      <td>32</td>\n      <td>1</td>\n      <td>28.880</td>\n      <td>0</td>\n      <td>0</td>\n      <td>2</td>\n    </tr>\n  </tbody>\n</table>\n</div>"
     },
     "metadata": {},
     "execution_count": 3
    }
   ],
   "source": [
    "# Seperate the features and result\n",
    "X=ds.iloc[:,0:6]\n",
    "Y=ds.iloc[:,-1]\n",
    "X.head()"
   ]
  },
  {
   "cell_type": "code",
   "execution_count": 4,
   "metadata": {
    "tags": []
   },
   "outputs": [
    {
     "output_type": "execute_result",
     "data": {
      "text/plain": "          0    1         2    3    4         5\n0  0.296875  0.0  0.525127  0.0  1.0  0.000000\n1  0.281250  1.0  0.635611  0.2  0.0  0.333333\n2  0.437500  1.0  0.621118  0.6  0.0  0.333333\n3  0.515625  1.0  0.427348  0.0  0.0  0.666667\n4  0.500000  1.0  0.543572  0.0  0.0  0.666667",
      "text/html": "<div>\n<style scoped>\n    .dataframe tbody tr th:only-of-type {\n        vertical-align: middle;\n    }\n\n    .dataframe tbody tr th {\n        vertical-align: top;\n    }\n\n    .dataframe thead th {\n        text-align: right;\n    }\n</style>\n<table border=\"1\" class=\"dataframe\">\n  <thead>\n    <tr style=\"text-align: right;\">\n      <th></th>\n      <th>0</th>\n      <th>1</th>\n      <th>2</th>\n      <th>3</th>\n      <th>4</th>\n      <th>5</th>\n    </tr>\n  </thead>\n  <tbody>\n    <tr>\n      <th>0</th>\n      <td>0.296875</td>\n      <td>0.0</td>\n      <td>0.525127</td>\n      <td>0.0</td>\n      <td>1.0</td>\n      <td>0.000000</td>\n    </tr>\n    <tr>\n      <th>1</th>\n      <td>0.281250</td>\n      <td>1.0</td>\n      <td>0.635611</td>\n      <td>0.2</td>\n      <td>0.0</td>\n      <td>0.333333</td>\n    </tr>\n    <tr>\n      <th>2</th>\n      <td>0.437500</td>\n      <td>1.0</td>\n      <td>0.621118</td>\n      <td>0.6</td>\n      <td>0.0</td>\n      <td>0.333333</td>\n    </tr>\n    <tr>\n      <th>3</th>\n      <td>0.515625</td>\n      <td>1.0</td>\n      <td>0.427348</td>\n      <td>0.0</td>\n      <td>0.0</td>\n      <td>0.666667</td>\n    </tr>\n    <tr>\n      <th>4</th>\n      <td>0.500000</td>\n      <td>1.0</td>\n      <td>0.543572</td>\n      <td>0.0</td>\n      <td>0.0</td>\n      <td>0.666667</td>\n    </tr>\n  </tbody>\n</table>\n</div>"
     },
     "metadata": {},
     "execution_count": 4
    }
   ],
   "source": [
    "# Feature scaling\n",
    "X=X.to_numpy()\n",
    "max=np.amax(X,axis=0)\n",
    "X=np.divide(X,max)\n",
    "X=pd.DataFrame(X)\n",
    "X.head()"
   ]
  },
  {
   "cell_type": "code",
   "execution_count": 5,
   "metadata": {
    "tags": []
   },
   "outputs": [],
   "source": [
    "# Spliting test and training set\n",
    "x_train, x_test, y_train, y_test = train_test_split (X, Y, test_size=0.5,random_state=42)\n",
    "x_train=x_train.to_numpy().T                                 #(6,669)\n",
    "x_test=x_test.to_numpy().T                                   #(6,669)\n",
    "y_train=np.reshape(y_train.to_numpy(),(1,x_train.shape[1]))  #(1,669)\n",
    "y_test=np.reshape(y_test.to_numpy(),(1,x_test.shape[1]))     #(1,669)"
   ]
  },
  {
   "cell_type": "code",
   "execution_count": 6,
   "metadata": {},
   "outputs": [],
   "source": [
    "# Initializing parameters and necessary variables\n",
    "m=x_train.shape[1]                   # nos of example (669)\n",
    "features = x_train.shape[0]          # nos of features or input (6)\n",
    "w=np.random.rand(features,1)    #  parameter (6,1)\n",
    "b=0                                 "
   ]
  },
  {
   "cell_type": "code",
   "execution_count": 7,
   "metadata": {},
   "outputs": [],
   "source": [
    "# Hyperparametr\n",
    "epoch = 10000  # nos of iteration\n",
    "aplha = 0.001   # learning rate"
   ]
  },
  {
   "cell_type": "code",
   "execution_count": 15,
   "metadata": {
    "tags": []
   },
   "outputs": [
    {
     "output_type": "stream",
     "name": "stdout",
     "text": "39639711.302999735\n39574387.79737988\n39512614.427756965\n39454087.925812006\n39398540.7454474\n39345736.29277543\n39295464.819413476\n39247539.88441614\n39201795.30443367\n39158082.523477815\n"
    }
   ],
   "source": [
    "# training\n",
    "for i in range(epoch):\n",
    "    # forward propagation\n",
    "    A=np.dot(w.T,x_train)+b\n",
    "    # cost \n",
    "    J=np.sum((y_train-A)**2)/m\n",
    "    # back propagation\n",
    "    dw= np.dot(x_train,(2*(y_train-A)).T)/(-m)\n",
    "    db=2*np.sum(y_train-A)/(-m)\n",
    "    # update parameter\n",
    "    w=w-(aplha*dw)\n",
    "    b=b-(aplha*db)\n",
    "    if i%1000==0:\n",
    "        print(J)"
   ]
  },
  {
   "cell_type": "code",
   "execution_count": 24,
   "metadata": {
    "tags": []
   },
   "outputs": [
    {
     "output_type": "stream",
     "name": "stdout",
     "text": "[[6189.90937064 9041.00690949]]\n"
    }
   ],
   "source": [
    "# test=np.array([[0.515625,0,0.50244,0,0,0.66666],\n",
    "# [0.5312,1,0.807,0.2,0,0]])\n",
    "# A=np.dot(w.T,test.T)+b\n",
    "A=np.dot(w.T,x_test)+b\n",
    "((100 - np.mean((np.abs(A - y_test))/y_test)*100))"
   ]
  },
  {
   "cell_type": "code",
   "execution_count": null,
   "metadata": {},
   "outputs": [],
   "source": []
  }
 ]
}